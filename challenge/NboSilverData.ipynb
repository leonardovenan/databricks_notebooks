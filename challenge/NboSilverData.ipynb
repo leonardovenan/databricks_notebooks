{
 "cells": [
  {
   "cell_type": "code",
   "execution_count": 0,
   "metadata": {
    "application/vnd.databricks.v1+cell": {
     "cellMetadata": {
      "byteLimit": 2048000,
      "rowLimit": 10000
     },
     "inputWidgets": {},
     "nuid": "7b7d7d3b-58a7-4c48-881d-d07d250dab5b",
     "showTitle": false,
     "tableResultSettingsMap": {
      "0": {
       "dataGridStateBlob": "{\"version\":1,\"tableState\":{\"columnPinning\":{\"left\":[\"#row_number#\"],\"right\":[]},\"columnSizing\":{\"customer_id\":456},\"columnVisibility\":{}},\"settings\":{\"columns\":{}},\"syncTimestamp\":1754408560027}",
       "filterBlob": null,
       "queryPlanFiltersBlob": null,
       "tableResultIndex": 0
      }
     },
     "title": ""
    }
   },
   "outputs": [],
   "source": [
    "df_customer = spark.sql(\"\"\"\n",
    "WITH deduplicated AS (\n",
    "  SELECT *\n",
    "  FROM (\n",
    "    SELECT\n",
    "      CASE\n",
    "        WHEN customer_id = 'nan' THEN sha2(\n",
    "          concat_ws(coalesce(first__name, '-1')\n",
    "          ,coalesce(last__name, '-1') \n",
    "          ,coalesce(cell_phone, '-1') \n",
    "          ,coalesce(email, '-1') ), 256)\n",
    "        ELSE customer_id\n",
    "      END           AS customer_id,\n",
    "      first__name   AS first_name,\n",
    "      last__name    AS last_name,\n",
    "      cell_phone    AS phone,\n",
    "      arm_status,\n",
    "      CAST(CASE \n",
    "       WHEN LOWER(arm__last_bill_date) = 'nat' THEN NULL\n",
    "       ELSE arm__last_bill_date\n",
    "       END AS TIMESTAMP) AS arm_lastbilldate,\n",
    "      CAST(CASE\n",
    "        WHEN LOWER(arm__expires) = 'nat' THEN NULL\n",
    "        ELSE arm__expires\n",
    "        END AS TIMESTAMP)        AS arm_expires,\n",
    "      CASE\n",
    "        WHEN payment__token = 'nan' THEN NULL\n",
    "        ELSE payment__token\n",
    "      END               AS payment_token,\n",
    "      ROW_NUMBER() OVER (PARTITION BY customer_id, cell_phone ORDER BY customer_id) AS rn\n",
    "    FROM bronze.cleaned_customer_data\n",
    "  ) t\n",
    "  WHERE rn = 1\n",
    ")\n",
    "\n",
    "SELECT * EXCEPT (rn)\n",
    "FROM deduplicated\n",
    "\"\"\")\n",
    "df_customer.display()\n"
   ]
  },
  {
   "cell_type": "code",
   "execution_count": 0,
   "metadata": {
    "application/vnd.databricks.v1+cell": {
     "cellMetadata": {
      "byteLimit": 2048000,
      "implicitDf": true,
      "rowLimit": 10000
     },
     "inputWidgets": {},
     "nuid": "b7758e84-0990-493d-9c6c-1d1e5c0e2a79",
     "showTitle": false,
     "tableResultSettingsMap": {},
     "title": ""
    }
   },
   "outputs": [],
   "source": [
    "%sql\n",
    "create schema silver"
   ]
  },
  {
   "cell_type": "code",
   "execution_count": 0,
   "metadata": {
    "application/vnd.databricks.v1+cell": {
     "cellMetadata": {
      "byteLimit": 2048000,
      "rowLimit": 10000
     },
     "inputWidgets": {},
     "nuid": "f30e014f-8005-4493-8067-12c4c8bbe9be",
     "showTitle": false,
     "tableResultSettingsMap": {},
     "title": ""
    }
   },
   "outputs": [],
   "source": [
    "df_customer.write.format(\"delta\").mode(\"overwrite\").option('overwriteSchema', True).saveAsTable(\"silver.customer\")"
   ]
  },
  {
   "cell_type": "code",
   "execution_count": 0,
   "metadata": {
    "application/vnd.databricks.v1+cell": {
     "cellMetadata": {
      "byteLimit": 2048000,
      "rowLimit": 10000
     },
     "inputWidgets": {},
     "nuid": "1c39cbbc-a9dc-4409-8972-58df3ce65529",
     "showTitle": false,
     "tableResultSettingsMap": {
      "0": {
       "dataGridStateBlob": "{\"version\":1,\"tableState\":{\"columnPinning\":{\"left\":[\"#row_number#\"],\"right\":[]},\"columnSizing\":{},\"columnVisibility\":{}},\"settings\":{\"columns\":{}},\"syncTimestamp\":1754408645976}",
       "filterBlob": null,
       "queryPlanFiltersBlob": null,
       "tableResultIndex": 0
      }
     },
     "title": ""
    }
   },
   "outputs": [],
   "source": [
    "df_vehicle  = spark.sql(\"\"\"\n",
    "WITH filtered AS (\n",
    "  SELECT\n",
    "    CASE\n",
    "        WHEN customer_id = 'nan' THEN sha2(\n",
    "          concat_ws(coalesce(first__name, '-1')\n",
    "          ,coalesce(last__name, '-1') \n",
    "          ,coalesce(cell_phone, '-1') \n",
    "          ,coalesce(email, '-1') ), 256)\n",
    "        ELSE customer_id\n",
    "      END           AS customer_id,\n",
    "    extra_number_rfid as rfid\n",
    "  FROM bronze.cleaned_customer_data\n",
    "  WHERE extra_number_rfid IS NOT NULL AND extra_number_rfid != ''\n",
    "),\n",
    "deduplicated AS (\n",
    "  SELECT *\n",
    "  FROM (\n",
    "    SELECT *,\n",
    "           ROW_NUMBER() OVER (PARTITION BY customer_id, rfid ORDER BY customer_id) AS rn\n",
    "    FROM filtered\n",
    "  ) t\n",
    "  WHERE rn = 1\n",
    ")\n",
    "\n",
    "SELECT * EXCEPT (rn)\n",
    "FROM deduplicated\"\"\")\n",
    "df_vehicle.display()"
   ]
  },
  {
   "cell_type": "code",
   "execution_count": 0,
   "metadata": {
    "application/vnd.databricks.v1+cell": {
     "cellMetadata": {
      "byteLimit": 2048000,
      "rowLimit": 10000
     },
     "inputWidgets": {},
     "nuid": "105da750-b2c7-4ec5-88a2-50f7db2e321a",
     "showTitle": false,
     "tableResultSettingsMap": {},
     "title": ""
    }
   },
   "outputs": [],
   "source": [
    "df_vehicle.write.format(\"delta\").mode(\"overwrite\").option('overwriteSchema', True).saveAsTable(\"silver.vehicle\")"
   ]
  },
  {
   "cell_type": "code",
   "execution_count": 0,
   "metadata": {
    "application/vnd.databricks.v1+cell": {
     "cellMetadata": {
      "byteLimit": 2048000,
      "implicitDf": true,
      "rowLimit": 10000
     },
     "inputWidgets": {},
     "nuid": "f41c16f2-917b-4849-b1af-766203bf07a9",
     "showTitle": false,
     "tableResultSettingsMap": {
      "0": {
       "dataGridStateBlob": "{\"version\":1,\"tableState\":{\"columnPinning\":{\"left\":[\"#row_number#\"],\"right\":[]},\"columnSizing\":{},\"columnVisibility\":{}},\"settings\":{\"columns\":{}},\"syncTimestamp\":1754408937629}",
       "filterBlob": null,
       "queryPlanFiltersBlob": null,
       "tableResultIndex": 0
      }
     },
     "title": ""
    }
   },
   "outputs": [],
   "source": [
    "%sql\n",
    "SELECT * FROM silver.customer\n",
    "WHERE payment_token IS NULL;"
   ]
  },
  {
   "cell_type": "code",
   "execution_count": 0,
   "metadata": {
    "application/vnd.databricks.v1+cell": {
     "cellMetadata": {
      "byteLimit": 2048000,
      "implicitDf": true,
      "rowLimit": 10000
     },
     "inputWidgets": {},
     "nuid": "134fa0f7-03e9-4f28-8876-7f5a3b44bbfc",
     "showTitle": false,
     "tableResultSettingsMap": {},
     "title": ""
    }
   },
   "outputs": [],
   "source": [
    "%sql\n",
    "SELECT * FROM silver.customer\n",
    "WHERE arm_status = 'Active'\n",
    "  AND (arm_lastbilldate < current_date() OR arm_expires < current_date());"
   ]
  },
  {
   "cell_type": "code",
   "execution_count": 0,
   "metadata": {
    "application/vnd.databricks.v1+cell": {
     "cellMetadata": {
      "byteLimit": 2048000,
      "implicitDf": true,
      "rowLimit": 10000
     },
     "inputWidgets": {},
     "nuid": "683fdc5e-2ae4-4237-8d93-2e3f0b0c9b02",
     "showTitle": false,
     "tableResultSettingsMap": {},
     "title": ""
    }
   },
   "outputs": [],
   "source": [
    "%sql\n",
    "SELECT * FROM silver.customer\n",
    "WHERE arm_expires > current_date();"
   ]
  },
  {
   "cell_type": "code",
   "execution_count": 0,
   "metadata": {
    "application/vnd.databricks.v1+cell": {
     "cellMetadata": {},
     "inputWidgets": {},
     "nuid": "ab40f859-76c9-4bc8-a319-c0390954d7dc",
     "showTitle": false,
     "tableResultSettingsMap": {},
     "title": ""
    }
   },
   "outputs": [],
   "source": []
  }
 ],
 "metadata": {
  "application/vnd.databricks.v1+notebook": {
   "computePreferences": null,
   "dashboards": [],
   "environmentMetadata": {
    "base_environment": "",
    "environment_version": "2"
   },
   "inputWidgetPreferences": null,
   "language": "python",
   "notebookMetadata": {
    "mostRecentlyExecutedCommandWithImplicitDF": {
     "commandId": 5906616907733732,
     "dataframes": [
      "_sqldf"
     ]
    },
    "pythonIndentUnit": 4
   },
   "notebookName": "NboSilverData",
   "widgets": {}
  },
  "language_info": {
   "name": "python"
  }
 },
 "nbformat": 4,
 "nbformat_minor": 0
}
