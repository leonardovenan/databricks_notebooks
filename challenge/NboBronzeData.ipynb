{
 "cells": [
  {
   "cell_type": "code",
   "execution_count": 0,
   "metadata": {
    "application/vnd.databricks.v1+cell": {
     "cellMetadata": {
      "byteLimit": 2048000,
      "rowLimit": 10000
     },
     "inputWidgets": {},
     "nuid": "3379e3a0-239c-4643-b885-99c8dc2505fe",
     "showTitle": false,
     "tableResultSettingsMap": {},
     "title": ""
    }
   },
   "outputs": [],
   "source": [
    "from datetime import datetime\n",
    "from pyspark.sql import Row\n",
    "\n",
    "def log_etl(step: str, status: str, message: str):\n",
    "    log_df = spark.createDataFrame([Row(\n",
    "        step=step,\n",
    "        status=status,\n",
    "        timestamp=datetime.now(),\n",
    "        message=message\n",
    "    )])\n",
    "    log_df.write.format(\"delta\").mode(\"append\").saveAsTable(\"silver.log_etl\")"
   ]
  },
  {
   "cell_type": "code",
   "execution_count": 0,
   "metadata": {
    "application/vnd.databricks.v1+cell": {
     "cellMetadata": {
      "byteLimit": 2048000,
      "implicitDf": true,
      "rowLimit": 10000
     },
     "inputWidgets": {},
     "nuid": "1fc11110-a86d-4b72-8bb4-cadd267175f1",
     "showTitle": false,
     "tableResultSettingsMap": {},
     "title": ""
    }
   },
   "outputs": [],
   "source": [
    "%sql\n",
    "select * from staging.test_customer_data"
   ]
  },
  {
   "cell_type": "code",
   "execution_count": 0,
   "metadata": {
    "application/vnd.databricks.v1+cell": {
     "cellMetadata": {
      "byteLimit": 2048000,
      "implicitDf": true,
      "rowLimit": 10000
     },
     "inputWidgets": {},
     "nuid": "4c0afcea-ccd6-4bed-940e-c186452bf493",
     "showTitle": false,
     "tableResultSettingsMap": {
      "0": {
       "dataGridStateBlob": "{\"version\":1,\"tableState\":{\"columnPinning\":{\"left\":[\"#row_number#\"],\"right\":[]},\"columnSizing\":{},\"columnVisibility\":{}},\"settings\":{\"columns\":{}},\"syncTimestamp\":1754407242468}",
       "filterBlob": null,
       "queryPlanFiltersBlob": null,
       "tableResultIndex": 0
      }
     },
     "title": ""
    }
   },
   "outputs": [],
   "source": [
    "df_bronze = spark.sql(\"\"\"\n",
    "WITH step1 AS (\n",
    "  SELECT \n",
    "    site_id,\n",
    "    site__name,\n",
    "    bus_addr1,\n",
    "    bus_addr2,\n",
    "    bus_city,\n",
    "    bus_state,\n",
    "    bus_zip_code,\n",
    "    first__name,\n",
    "    middle__name,\n",
    "    last__name,\n",
    "    address1,\n",
    "    address2,\n",
    "    city,\n",
    "    state,\n",
    "    zip_code,\n",
    "    regexp_replace(home_phone, '[^0-9]', '') AS home_phone,\n",
    "    regexp_replace(cell_phone, '[^0-9]', '') AS cell_phone,\n",
    "    email,\n",
    "    rfid,\n",
    "    veh_desc,\n",
    "    arm_p_lan,\n",
    "    arm_status,\n",
    "    arm__joined,\n",
    "    arm__last_bill_date,\n",
    "    arm__expires,\n",
    "    customer_id,\n",
    "    card_id,\n",
    "    payment__token,\n",
    "    token__authorizer__code,\n",
    "    split(rfid, '\\\\|') AS rfid_array\n",
    "  FROM staging.test_customer_data\n",
    "),\n",
    "step2 AS (\n",
    "  SELECT\n",
    "    site_id,\n",
    "    site__name,\n",
    "    bus_addr1,\n",
    "    bus_addr2,\n",
    "    bus_city,\n",
    "    bus_state,\n",
    "    bus_zip_code,\n",
    "    first__name,\n",
    "    middle__name,\n",
    "    last__name,\n",
    "    address1,\n",
    "    address2,\n",
    "    city,\n",
    "    state,\n",
    "    zip_code,\n",
    "    home_phone,\n",
    "    cell_phone,\n",
    "    email,\n",
    "    exploded_rfid AS extra_number_rfid,\n",
    "    veh_desc,\n",
    "    arm_p_lan,\n",
    "    arm_status,\n",
    "    arm__joined,\n",
    "    arm__last_bill_date,\n",
    "    arm__expires,\n",
    "    customer_id,\n",
    "    card_id,\n",
    "    payment__token,\n",
    "    token__authorizer__code\n",
    "  FROM step1\n",
    "  LATERAL VIEW posexplode(rfid_array) AS idx, exploded_rfid\n",
    ")\n",
    "SELECT *\n",
    "FROM step2\"\"\")\n",
    "df_bronze.display()\n"
   ]
  },
  {
   "cell_type": "code",
   "execution_count": 0,
   "metadata": {
    "application/vnd.databricks.v1+cell": {
     "cellMetadata": {
      "byteLimit": 2048000,
      "implicitDf": true,
      "rowLimit": 10000
     },
     "inputWidgets": {},
     "nuid": "1ff49b61-f055-430a-90c0-844d2025cb1f",
     "showTitle": false,
     "tableResultSettingsMap": {},
     "title": ""
    }
   },
   "outputs": [],
   "source": [
    "%sql\n",
    "create schema if not exists bronze"
   ]
  },
  {
   "cell_type": "code",
   "execution_count": 0,
   "metadata": {
    "application/vnd.databricks.v1+cell": {
     "cellMetadata": {
      "byteLimit": 2048000,
      "rowLimit": 10000
     },
     "inputWidgets": {},
     "nuid": "5a7416a8-4ba5-4ac0-8dc4-9c4399c96edf",
     "showTitle": false,
     "tableResultSettingsMap": {},
     "title": ""
    }
   },
   "outputs": [],
   "source": [
    "try:\n",
    "    df_bronze.write.format(\"delta\").mode(\"overwrite\").saveAsTable(\"bronze.cleaned_customer_data\")\n",
    "    log_etl(\"Load cleaned_customer_data\", \"SUCCESS\", \"cleaned_customer_data data successfully loaded into bronze.cleaned_customer_data\")\n",
    "except Exception as e:\n",
    "    log_etl(\"Load cleaned_customer_data\", \"ERROR\", f\"Failed to load Customer data: {str(e)}\")"
   ]
  },
  {
   "cell_type": "code",
   "execution_count": 0,
   "metadata": {
    "application/vnd.databricks.v1+cell": {
     "cellMetadata": {
      "byteLimit": 2048000,
      "implicitDf": true,
      "rowLimit": 10000
     },
     "inputWidgets": {},
     "nuid": "d7323203-09fd-427b-b4ba-4a3be11d38b8",
     "showTitle": false,
     "tableResultSettingsMap": {},
     "title": ""
    }
   },
   "outputs": [],
   "source": [
    "%sql\n",
    "select * from bronze.cleaned_customer_data"
   ]
  },
  {
   "cell_type": "code",
   "execution_count": 0,
   "metadata": {
    "application/vnd.databricks.v1+cell": {
     "cellMetadata": {},
     "inputWidgets": {},
     "nuid": "5280c69c-e77c-4a8a-b22c-d0119828233b",
     "showTitle": false,
     "tableResultSettingsMap": {},
     "title": ""
    }
   },
   "outputs": [],
   "source": []
  }
 ],
 "metadata": {
  "application/vnd.databricks.v1+notebook": {
   "computePreferences": null,
   "dashboards": [],
   "environmentMetadata": {
    "base_environment": "",
    "environment_version": "2"
   },
   "inputWidgetPreferences": null,
   "language": "python",
   "notebookMetadata": {
    "mostRecentlyExecutedCommandWithImplicitDF": {
     "commandId": 5906616907733722,
     "dataframes": [
      "_sqldf"
     ]
    },
    "pythonIndentUnit": 4
   },
   "notebookName": "NboBronzeData",
   "widgets": {}
  },
  "language_info": {
   "name": "python"
  }
 },
 "nbformat": 4,
 "nbformat_minor": 0
}
